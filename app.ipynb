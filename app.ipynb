{
 "cells": [
  {
   "cell_type": "markdown",
   "metadata": {},
   "source": [
    "### Create custom dataset"
   ]
  },
  {
   "cell_type": "code",
   "execution_count": 1,
   "metadata": {},
   "outputs": [
    {
     "name": "stdout",
     "output_type": "stream",
     "text": [
      "\n",
      "Count of notifications by app label:\n",
      "APP LABEL\n",
      "Tokopedia                                                                                                              6777\n",
      "FT                                                                                                                     3896\n",
      "Messages                                                                                                               3672\n",
      "MSN                                                                                                                    2667\n",
      "Duolingo                                                                                                               2467\n",
      "                                                                                                                       ... \n",
      "by.U                                                                                                                      1\n",
      "My HKG                                                                                                                    1\n",
      "Pake GoPay Pinjam, GRATIS biaya cicilan s.d. 250rb! Solusi dana tambahan buat penuhi kebutuhan. Aktifkan sekarang~        1\n",
      "Pake GoPay Pinjam, bisa dapet GRATIS biaya cicilan s.d. 250rb loh. Jadi dana tambahan sehari-hari. Cobain sekarang!       1\n",
      "Learning                                                                                                                  1\n",
      "Name: count, Length: 122, dtype: int64\n"
     ]
    }
   ],
   "source": [
    "import pandas as pd\n",
    "\n",
    "notifications_df = pd.read_csv('raw-data.txt', quotechar='\"', escapechar='\\\\')\n",
    "\n",
    "# app_labels = ['Gojek', 'GoPay', 'Grab', 'Jenius', 'Amazon Shopping']\n",
    "# filtered_df = notifications_df[notifications_df['APP LABEL'].isin(app_labels)]\n",
    "# filtered_df.to_csv('custom_notifications.csv', index=False)\n",
    "# print(filtered_df.head())\n",
    "\n",
    "unwanted_labels = ['Stay Focused', 'Android System']\n",
    "filtered_df = notifications_df[~notifications_df['APP LABEL'].isin(unwanted_labels)]\n",
    "filtered_df.to_csv('custom_notifications.csv', index=False)\n",
    "\n",
    "app_counts = filtered_df['APP LABEL'].value_counts()\n",
    "print(\"\\nCount of notifications by app label:\")\n",
    "print(app_counts)\n",
    "\n",
    "# # To see if any of the requested labels are missing from the data\n",
    "# missing_labels = set(app_labels) - set(app_counts.index)\n",
    "# if missing_labels:\n",
    "#     print(\"\\nRequested labels not found in the data:\", missing_labels)"
   ]
  },
  {
   "cell_type": "markdown",
   "metadata": {},
   "source": [
    "### Notification parser"
   ]
  },
  {
   "cell_type": "code",
   "execution_count": 2,
   "metadata": {},
   "outputs": [],
   "source": [
    "from transaction_parser import process_notification_data, test_raw_csv_input, update_dictionaries_interactively, manage_regex_patterns_interactively"
   ]
  },
  {
   "cell_type": "markdown",
   "metadata": {},
   "source": [
    "### Testing on custom dataset"
   ]
  },
  {
   "cell_type": "code",
   "execution_count": 3,
   "metadata": {},
   "outputs": [
    {
     "name": "stdout",
     "output_type": "stream",
     "text": [
      "Loading notifications data...\n",
      "Loaded 42369 notifications\n",
      "Processing notifications...\n",
      "Processed 42129 transactions, skipped 240 blacklisted apps\n",
      "\n",
      "Transaction Type Summary:\n",
      "Income: 4127\n",
      "Expense: 5479\n",
      "Transfer: 476\n",
      "Total valid transactions: 10082\n",
      "Removed 32047 unknown transaction entries\n",
      "\n",
      "Category Distribution:\n",
      "other: 5284\n",
      "savings: 2611\n",
      "shopping: 508\n",
      "housing: 424\n",
      "financial: 414\n",
      "cashback: 196\n",
      "food: 167\n",
      "entertainment: 152\n",
      "lifestyle: 139\n",
      "transport: 137\n",
      "health: 19\n",
      "healthcare: 19\n",
      "career: 7\n",
      "fitness: 5\n",
      "\n",
      "Financial Summary:\n",
      "Total Income: 2,080,468,368.66\n",
      "Total Expenses: 187,459,719.54\n",
      "Net Balance: 1,893,008,649.12\n",
      "\n",
      "Successfully processed and saved 10082 transactions.\n"
     ]
    }
   ],
   "source": [
    "try:\n",
    "    # Load the dataset\n",
    "    print(\"Loading notifications data...\")\n",
    "    notifications_df = pd.read_csv('custom_notifications.csv')\n",
    "    \n",
    "    print(f\"Loaded {len(notifications_df)} notifications\")\n",
    "    \n",
    "    # Process the data\n",
    "    print(\"Processing notifications...\")\n",
    "    results_df = process_notification_data(notifications_df)\n",
    "    \n",
    "    # Remove entries with \"unknown\" transaction type\n",
    "    valid_results_df = results_df[results_df['transaction_type'] != 'unknown']\n",
    "    \n",
    "    # Count transactions by type\n",
    "    transaction_counts = valid_results_df['transaction_type'].value_counts()\n",
    "    \n",
    "    # Print transaction counts\n",
    "    print(\"\\nTransaction Type Summary:\")\n",
    "    print(f\"Income: {transaction_counts.get('income', 0)}\")\n",
    "    print(f\"Expense: {transaction_counts.get('expense', 0)}\")\n",
    "    print(f\"Transfer: {transaction_counts.get('transfer', 0)}\")\n",
    "    print(f\"Total valid transactions: {len(valid_results_df)}\")\n",
    "    \n",
    "    if len(results_df) - len(valid_results_df) > 0:\n",
    "        print(f\"Removed {len(results_df) - len(valid_results_df)} unknown transaction entries\")\n",
    "    \n",
    "    # Category distribution\n",
    "    category_counts = valid_results_df['category'].value_counts()\n",
    "    print(\"\\nCategory Distribution:\")\n",
    "    for category, count in category_counts.items():\n",
    "        print(f\"{category}: {count}\")\n",
    "    \n",
    "    # Calculate financial summary\n",
    "    if 'amount' in valid_results_df.columns:\n",
    "        income_amount = valid_results_df[valid_results_df['transaction_type'] == 'income']['amount'].sum()\n",
    "        expense_amount = valid_results_df[valid_results_df['transaction_type'] == 'expense']['amount'].sum()\n",
    "        \n",
    "        print(\"\\nFinancial Summary:\")\n",
    "        print(f\"Total Income: {income_amount:,.2f}\")\n",
    "        print(f\"Total Expenses: {expense_amount:,.2f}\")\n",
    "        print(f\"Net Balance: {income_amount - expense_amount:,.2f}\")\n",
    "    \n",
    "    # Save to CSV\n",
    "    valid_results_df.to_csv('processed_transactions.csv', index=False)\n",
    "    \n",
    "    print(f\"\\nSuccessfully processed and saved {len(valid_results_df)} transactions.\")\n",
    "    \n",
    "except Exception as e:\n",
    "    print(f\"Error processing data: {e}\")"
   ]
  },
  {
   "cell_type": "markdown",
   "metadata": {},
   "source": [
    "### Manual testing"
   ]
  },
  {
   "cell_type": "code",
   "execution_count": 4,
   "metadata": {},
   "outputs": [
    {
     "name": "stdout",
     "output_type": "stream",
     "text": [
      "Processed 1 transactions, skipped 0 blacklisted apps\n",
      "\n",
      "Results from Raw CSV Input:\n",
      "\n",
      "Transaction 1:\n",
      "  id: 5909\n",
      "  timestamp: 2023-07-12 22:03:22\n",
      "  transaction_type: expense\n",
      "  amount: 138.0\n",
      "  account_number: None\n",
      "  category: savings\n"
     ]
    }
   ],
   "source": [
    "raw_input = \"\"\"5909,com.gojek.app,Gojek,Pembayaran ke TOKOPEDIA berhasil.,,Dana sebesar Rp138.000 telah dipotong dari GoPay kamu.,2023-07-12 22:03:22\"\"\"\n",
    "raw_results = test_raw_csv_input(raw_input)\n",
    "\n",
    "print(\"\\nResults from Raw CSV Input:\")\n",
    "for i, result in enumerate(raw_results, 1):\n",
    "    print(f\"\\nTransaction {i}:\")\n",
    "    for key, value in result.items():\n",
    "        \n",
    "        print(f\"  {key}: {value}\")"
   ]
  },
  {
   "cell_type": "markdown",
   "metadata": {},
   "source": [
    "### Updating dictionary"
   ]
  },
  {
   "cell_type": "code",
   "execution_count": 5,
   "metadata": {},
   "outputs": [
    {
     "name": "stdout",
     "output_type": "stream",
     "text": [
      "\n",
      "==================================================\n",
      "DICTIONARY MANAGER\n",
      "Update transaction categorization dictionaries or apply personas\n",
      "\n",
      "Current Statistics:\n",
      "  categories: 7 subcategories, 94 keywords\n",
      "  merchants: 9 subcategories, 133 keywords\n",
      "  transaction_types: 3 subcategories, 61 keywords\n",
      "  blacklist: 1 apps\n",
      "\n",
      "==================================================\n",
      "DICTIONARY MANAGER MENU\n",
      "1. Select & Apply Persona (Replace Categories)\n",
      "2. Update Categories\n",
      "3. Update Merchants\n",
      "4. Update Transaction Types\n",
      "5. Update Blacklisted Apps\n",
      "6. Show Statistics\n",
      "7. Exit\n"
     ]
    },
    {
     "name": "stdout",
     "output_type": "stream",
     "text": [
      "\n",
      "Exiting dictionary manager.\n"
     ]
    }
   ],
   "source": [
    "update_dictionaries_interactively()"
   ]
  },
  {
   "cell_type": "code",
   "execution_count": 6,
   "metadata": {},
   "outputs": [
    {
     "name": "stdout",
     "output_type": "stream",
     "text": [
      "\n",
      "==================================================\n",
      "REGEX PATTERN MANAGER\n",
      "Manage regex patterns for transaction parsing\n",
      "\n",
      "==================================================\n",
      "PATTERN MANAGER MENU\n",
      "1. Manage Amount Patterns\n",
      "2. Manage Account Patterns\n",
      "3. View All Patterns\n",
      "4. Test Patterns\n",
      "5. Reload Patterns from File\n",
      "6. Exit\n",
      "\n",
      "Exiting pattern manager.\n"
     ]
    }
   ],
   "source": [
    "manage_regex_patterns_interactively()"
   ]
  },
  {
   "cell_type": "code",
   "execution_count": null,
   "metadata": {},
   "outputs": [],
   "source": []
  }
 ],
 "metadata": {
  "kaggle": {
   "accelerator": "none",
   "dataSources": [
    {
     "datasetId": 5025085,
     "sourceId": 8436593,
     "sourceType": "datasetVersion"
    }
   ],
   "dockerImageVersionId": 31012,
   "isGpuEnabled": false,
   "isInternetEnabled": true,
   "language": "python",
   "sourceType": "notebook"
  },
  "kernelspec": {
   "display_name": "Python 3",
   "language": "python",
   "name": "python3"
  },
  "language_info": {
   "codemirror_mode": {
    "name": "ipython",
    "version": 3
   },
   "file_extension": ".py",
   "mimetype": "text/x-python",
   "name": "python",
   "nbconvert_exporter": "python",
   "pygments_lexer": "ipython3",
   "version": "3.12.0"
  }
 },
 "nbformat": 4,
 "nbformat_minor": 4
}
