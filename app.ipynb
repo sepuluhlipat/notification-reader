{
 "cells": [
  {
   "cell_type": "markdown",
   "metadata": {},
   "source": [
    "### Create custom dataset"
   ]
  },
  {
   "cell_type": "code",
   "execution_count": 1,
   "metadata": {},
   "outputs": [
    {
     "name": "stdout",
     "output_type": "stream",
     "text": [
      "\n",
      "Count of notifications by app label:\n",
      "APP LABEL\n",
      "Tokopedia                                                                                                              6777\n",
      "FT                                                                                                                     3896\n",
      "Messages                                                                                                               3672\n",
      "MSN                                                                                                                    2667\n",
      "Duolingo                                                                                                               2467\n",
      "                                                                                                                       ... \n",
      "by.U                                                                                                                      1\n",
      "My HKG                                                                                                                    1\n",
      "Pake GoPay Pinjam, GRATIS biaya cicilan s.d. 250rb! Solusi dana tambahan buat penuhi kebutuhan. Aktifkan sekarang~        1\n",
      "Pake GoPay Pinjam, bisa dapet GRATIS biaya cicilan s.d. 250rb loh. Jadi dana tambahan sehari-hari. Cobain sekarang!       1\n",
      "Learning                                                                                                                  1\n",
      "Name: count, Length: 122, dtype: int64\n"
     ]
    }
   ],
   "source": [
    "import pandas as pd\n",
    "\n",
    "notifications_df = pd.read_csv('raw-data.txt', quotechar='\"', escapechar='\\\\')\n",
    "\n",
    "# app_labels = ['Gojek', 'GoPay', 'Grab', 'Jenius', 'Amazon Shopping']\n",
    "# filtered_df = notifications_df[notifications_df['APP LABEL'].isin(app_labels)]\n",
    "# filtered_df.to_csv('custom_notifications.csv', index=False)\n",
    "# print(filtered_df.head())\n",
    "\n",
    "unwanted_labels = ['Stay Focused', 'Android System']\n",
    "filtered_df = notifications_df[~notifications_df['APP LABEL'].isin(unwanted_labels)]\n",
    "filtered_df.to_csv('custom_notifications.csv', index=False)\n",
    "\n",
    "app_counts = filtered_df['APP LABEL'].value_counts()\n",
    "print(\"\\nCount of notifications by app label:\")\n",
    "print(app_counts)\n",
    "\n",
    "# # To see if any of the requested labels are missing from the data\n",
    "# missing_labels = set(app_labels) - set(app_counts.index)\n",
    "# if missing_labels:\n",
    "#     print(\"\\nRequested labels not found in the data:\", missing_labels)"
   ]
  },
  {
   "cell_type": "markdown",
   "metadata": {},
   "source": [
    "### Notification parser"
   ]
  },
  {
   "cell_type": "code",
   "execution_count": 2,
   "metadata": {},
   "outputs": [
    {
     "name": "stdout",
     "output_type": "stream",
     "text": [
      "Loading notifications data...\n",
      "Loaded 42369 notifications\n",
      "Processing notifications...\n",
      "Processed 42369 transactions, skipped 0 blacklisted apps\n",
      "Found 10161 valid transactions out of 42369 processed\n",
      "\n",
      "Successfully processed and saved 10161 transactions to processed_transactions.csv\n",
      "\n",
      "Transaction Summary:\n",
      "Transaction Types:\n",
      "transaction_type\n",
      "expense     5546\n",
      "income      4134\n",
      "transfer     481\n",
      "Name: count, dtype: int64\n",
      "\n",
      "Top Categories:\n",
      "category\n",
      "other            3178\n",
      "savings          2960\n",
      "shopping         1466\n",
      "income            956\n",
      "housing           463\n",
      "transport         356\n",
      "entertainment     255\n",
      "cashback          196\n",
      "education         176\n",
      "food              107\n",
      "Name: count, dtype: int64\n"
     ]
    }
   ],
   "source": [
    "import pandas as pd\n",
    "from notification_reader import process_notification_data\n",
    "\n",
    "def main():\n",
    "    # Define file paths\n",
    "    notifications_file = 'custom_notifications.csv'\n",
    "    dictionary_file = 'dictionary.json'\n",
    "    patterns_file = 'regex_patterns.json'\n",
    "    \n",
    "    try:\n",
    "        # Load the dataset\n",
    "        print(\"Loading notifications data...\")\n",
    "        notifications_df = pd.read_csv(notifications_file)\n",
    "        print(f\"Loaded {len(notifications_df)} notifications\")\n",
    "        \n",
    "        # Process the data with dictionary and patterns files\n",
    "        print(\"Processing notifications...\")\n",
    "        results_df = process_notification_data(\n",
    "            notifications_df, \n",
    "            dictionary_file, \n",
    "            patterns_file\n",
    "        )\n",
    "        \n",
    "        # Remove entries with \"unknown\" transaction type\n",
    "        valid_results_df = results_df[results_df['transaction_type'] != 'unknown']\n",
    "        \n",
    "        print(f\"Found {len(valid_results_df)} valid transactions out of {len(results_df)} processed\")\n",
    "        \n",
    "        # Save to CSV\n",
    "        output_file = 'processed_transactions.csv'\n",
    "        valid_results_df.to_csv(output_file, index=False)\n",
    "        \n",
    "        print(f\"\\nSuccessfully processed and saved {len(valid_results_df)} transactions to {output_file}\")\n",
    "        \n",
    "        # Display summary statistics\n",
    "        if len(valid_results_df) > 0:\n",
    "            print(\"\\nTransaction Summary:\")\n",
    "            print(f\"Transaction Types:\")\n",
    "            print(valid_results_df['transaction_type'].value_counts())\n",
    "            print(f\"\\nTop Categories:\")\n",
    "            print(valid_results_df['category'].value_counts().head(10))\n",
    "        \n",
    "    except FileNotFoundError as e:\n",
    "        print(f\"File not found: {e}\")\n",
    "        print(\"Please ensure the following files exist:\")\n",
    "        print(f\"- {notifications_file}\")\n",
    "        print(f\"- {dictionary_file}\")\n",
    "        print(f\"- {patterns_file}\")\n",
    "    except KeyError as e:\n",
    "        print(f\"Missing required data in dictionary file: {e}\")\n",
    "    except ValueError as e:\n",
    "        print(f\"Invalid file format: {e}\")\n",
    "    except Exception as e:\n",
    "        print(f\"Error processing data: {e}\")\n",
    "\n",
    "if __name__ == \"__main__\":\n",
    "    main()"
   ]
  }
 ],
 "metadata": {
  "kaggle": {
   "accelerator": "none",
   "dataSources": [
    {
     "datasetId": 5025085,
     "sourceId": 8436593,
     "sourceType": "datasetVersion"
    }
   ],
   "dockerImageVersionId": 31012,
   "isGpuEnabled": false,
   "isInternetEnabled": true,
   "language": "python",
   "sourceType": "notebook"
  },
  "kernelspec": {
   "display_name": "Python 3",
   "language": "python",
   "name": "python3"
  },
  "language_info": {
   "codemirror_mode": {
    "name": "ipython",
    "version": 3
   },
   "file_extension": ".py",
   "mimetype": "text/x-python",
   "name": "python",
   "nbconvert_exporter": "python",
   "pygments_lexer": "ipython3",
   "version": "3.12.0"
  }
 },
 "nbformat": 4,
 "nbformat_minor": 4
}
